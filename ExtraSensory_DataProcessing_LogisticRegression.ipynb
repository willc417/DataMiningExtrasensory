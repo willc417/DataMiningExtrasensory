{
 "cells": [
  {
   "cell_type": "markdown",
   "metadata": {},
   "source": [
    "Data Preprocessing and Logistic Regression"
   ]
  },
  {
   "cell_type": "code",
   "execution_count": 1,
   "metadata": {},
   "outputs": [],
   "source": [
    "%matplotlib inline\n",
    "import matplotlib as mpl;\n",
    "import matplotlib.pyplot as plt;"
   ]
  },
  {
   "cell_type": "markdown",
   "metadata": {},
   "source": [
    "<a name=\"read_user_data\"></a>\n",
    "<b>Reading user data</b>.<br/>\n",
    "Each user has a separate data file that contains several pieces of the data, mainly features and labels.<br/>\n",
    "To read the different data pieces for a user, you can use the following functions:"
   ]
  },
  {
   "cell_type": "code",
   "execution_count": 68,
   "metadata": {},
   "outputs": [],
   "source": [
    "import numpy as np\n",
    "import gzip\n",
    "#import StringIO;\n",
    "import glob\n",
    "import pandas as pd\n",
    "\n",
    "def read_all_user_data():\n",
    "    file_names = glob.glob('*')\n",
    "    #file_names = os.listdir(\".\")\n",
    "    all_files_df = pd.DataFrame()\n",
    "    for file in file_names: \n",
    "        if file != \"ExtraSensory_DataProcessing.ipynb\":\n",
    "            df = pd.read_csv(file, compression='gzip')\n",
    "            all_files_df = all_files_df.append(other=df)\n",
    "            #break\n",
    "        \n",
    "    header_names = all_files_df.columns.values\n",
    "    timestamps = all_files_df[header_names[1]]\n",
    "    X = all_files_df[header_names[1:-52]]\n",
    "    Y = all_files_df[header_names[-52:-1]]\n",
    "    M = np.isnan(Y); # M is the missing label matrix\n",
    "    feature_names = header_names[1:52]\n",
    "    label_names = header_names[-52:-1]\n",
    "    return X,Y,M,timestamps,feature_names,label_names\n",
    "                "
   ]
  },
  {
   "cell_type": "code",
   "execution_count": 69,
   "metadata": {},
   "outputs": [],
   "source": [
    "(X,Y,M,timestamps,feature_names,label_names) = read_all_user_data()"
   ]
  },
  {
   "cell_type": "markdown",
   "metadata": {},
   "source": [
    "<a name=\"context_recognition\"></a>\n",
    "\n",
    "Now, we can try the task of <b>context recognition</b>: predicting the context-labels based on the sensor-features.<p/>\n",
    "\n",
    "We'll use linear models, specifically a logistic-regression classifier, to predict a single binary label.<br/>\n",
    "We can choose which sensors to use."
   ]
  },
  {
   "cell_type": "code",
   "execution_count": 70,
   "metadata": {},
   "outputs": [],
   "source": [
    "#choose sensors to use\n",
    "def get_sensor_names_from_features(feature_names):\n",
    "    feat_sensor_names = {'Gyro': [], 'Acc': [], 'Magnet': [], 'WAcc': [], 'Compass': [], 'Loc': [], 'AP': [], 'PS': [], 'LF': []}#np.array([None for feat in feature_names]);\n",
    "    for (fi,feat) in enumerate(feature_names):\n",
    "        if feat.startswith('raw_acc'):\n",
    "            feat_sensor_names['Acc'].append(feat)\n",
    "            pass;\n",
    "        elif feat.startswith('proc_gyro'):\n",
    "            feat_sensor_names['Gyro'].append(feat);\n",
    "            pass;\n",
    "        elif feat.startswith('raw_magnet'):\n",
    "            feat_sensor_names['Magnet'].append(feat);\n",
    "            pass;\n",
    "        elif feat.startswith('watch_acceleration'):\n",
    "            feat_sensor_names['WAcc'].append(feat);\n",
    "            pass;\n",
    "        elif feat.startswith('watch_heading'):\n",
    "            feat_sensor_names['Compass'].append(feat);\n",
    "            pass;\n",
    "        elif feat.startswith('location'):\n",
    "            feat_sensor_names['Loc'].append(feat);\n",
    "            pass;\n",
    "        elif feat.startswith('location_quick_features'):\n",
    "            feat_sensor_names['Loc'].append(feat);\n",
    "            pass;\n",
    "        elif feat.startswith('audio_naive'):\n",
    "            feat_sensor_names['Aud'].append(feat);\n",
    "            pass;\n",
    "        elif feat.startswith('audio_properties'):\n",
    "            feat_sensor_names['AP'].append(feat);\n",
    "            pass;\n",
    "        elif feat.startswith('discrete'):\n",
    "            feat_sensor_names['PS'].append(feat);\n",
    "            pass;\n",
    "        elif feat.startswith('lf_measurements'):\n",
    "            feat_sensor_names['LF'].append(feat);\n",
    "            pass;\n",
    "        else:\n",
    "            raise ValueError(\"!!! Unsupported feature name: %s\" % feat);\n",
    "\n",
    "        pass;\n",
    "\n",
    "    return feat_sensor_names;  \n",
    "feat_sensor_names = get_sensor_names_from_features(feature_names);"
   ]
  },
  {
   "cell_type": "code",
   "execution_count": 72,
   "metadata": {},
   "outputs": [],
   "source": [
    "#choose sensors to use"
   ]
  },
  {
   "cell_type": "code",
   "execution_count": 85,
   "metadata": {},
   "outputs": [],
   "source": [
    "import sklearn.linear_model;\n",
    "import sklearn.metrics as metrics;\n",
    "from sklearn.model_selection import (train_test_split,KFold)\n",
    "\n",
    "def get_sensors_to_use(features_to_use, feat_sensor_names):\n",
    "    sensors_list = []\n",
    "    for f in features_to_use: \n",
    "        sensors_list += feat_sensor_names[f]\n",
    "    return sensors_list\n",
    "\n",
    "def train_model(X_train,Y_train,M_train,sensors_to_use, target_label):\n",
    "    #Logistic Regression\n",
    "    #normalize features?\n",
    "    X_train = X_train[sensors_to_use]\n",
    "    y = Y_train[target_label]\n",
    "    missing_label_indexes = M_train.index[M_train[target_label] == True].tolist()\n",
    "    X_train = X_train.drop(index=missing_label_indexes)\n",
    "    y = y.drop(index=missing_label_indexes)\n",
    "    \n",
    "    kf = KFold(n_splits=5, random_state=42)\n",
    "\n",
    "    for train_index, test_index in kf.split(X_train):\n",
    "        train_X, test_X = X_train.iloc[train_index], X_train.iloc[test_index]\n",
    "        train_y, test_y = y.iloc[train_index], y.iloc[test_index]\n",
    "    \n",
    "        lr_model = sklearn.linear_model.LogisticRegression(class_weight='balanced')\n",
    "        lr_model.fit(train_X, train_y)\n",
    "        y_pred = lr_model.predict(train_X)\n",
    "        score = metrics.accuracy_score(train_y, y_pred)\n",
    "        print(f\"Accuracy for train data: {score}\")\n",
    "        \n",
    "        y_pred = lr_model.predict(test_X)\n",
    "        score = metrics.accuracy_score(test_y, y_pred)\n",
    "        print(f\"Accuracy for test data: {score}\")\n",
    "        \n",
    "    return lr_model"
   ]
  },
  {
   "cell_type": "code",
   "execution_count": 86,
   "metadata": {},
   "outputs": [
    {
     "name": "stdout",
     "output_type": "stream",
     "text": [
      "Accuracy for train data: 0.8956494325346784\n",
      "Accuracy for test data: 0.9596977329974811\n",
      "Accuracy for train data: 0.921840529467381\n",
      "Accuracy for test data: 0.9104665825977302\n",
      "Accuracy for train data: 0.8928458871730224\n",
      "Accuracy for test data: 0.8575031525851198\n",
      "Accuracy for train data: 0.9234163252442483\n",
      "Accuracy for test data: 0.8839848675914249\n",
      "Accuracy for train data: 0.913646391427671\n",
      "Accuracy for test data: 0.9155107187894073\n"
     ]
    },
    {
     "name": "stderr",
     "output_type": "stream",
     "text": [
      "/Users/willclinton/opt/anaconda3/lib/python3.7/site-packages/sklearn/linear_model/logistic.py:432: FutureWarning: Default solver will be changed to 'lbfgs' in 0.22. Specify a solver to silence this warning.\n",
      "  FutureWarning)\n",
      "/Users/willclinton/opt/anaconda3/lib/python3.7/site-packages/sklearn/linear_model/logistic.py:432: FutureWarning: Default solver will be changed to 'lbfgs' in 0.22. Specify a solver to silence this warning.\n",
      "  FutureWarning)\n",
      "/Users/willclinton/opt/anaconda3/lib/python3.7/site-packages/sklearn/linear_model/logistic.py:432: FutureWarning: Default solver will be changed to 'lbfgs' in 0.22. Specify a solver to silence this warning.\n",
      "  FutureWarning)\n",
      "/Users/willclinton/opt/anaconda3/lib/python3.7/site-packages/sklearn/linear_model/logistic.py:432: FutureWarning: Default solver will be changed to 'lbfgs' in 0.22. Specify a solver to silence this warning.\n",
      "  FutureWarning)\n",
      "/Users/willclinton/opt/anaconda3/lib/python3.7/site-packages/sklearn/linear_model/logistic.py:432: FutureWarning: Default solver will be changed to 'lbfgs' in 0.22. Specify a solver to silence this warning.\n",
      "  FutureWarning)\n"
     ]
    }
   ],
   "source": [
    "features = [\"Acc\", \"WAcc\"]\n",
    "sensors_to_use = get_sensors_to_use(features, feat_sensor_names)\n",
    "target_label = 'label:FIX_walking'\n",
    "model = train_model(X,Y,M, sensors_to_use, target_label)"
   ]
  },
  {
   "cell_type": "code",
   "execution_count": null,
   "metadata": {},
   "outputs": [],
   "source": []
  }
 ],
 "metadata": {
  "kernelspec": {
   "display_name": "Python 3",
   "language": "python",
   "name": "python3"
  },
  "language_info": {
   "codemirror_mode": {
    "name": "ipython",
    "version": 3
   },
   "file_extension": ".py",
   "mimetype": "text/x-python",
   "name": "python",
   "nbconvert_exporter": "python",
   "pygments_lexer": "ipython3",
   "version": "3.7.4"
  }
 },
 "nbformat": 4,
 "nbformat_minor": 1
}
